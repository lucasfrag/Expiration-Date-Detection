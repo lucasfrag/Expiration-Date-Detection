{
 "cells": [
  {
   "cell_type": "markdown",
   "metadata": {},
   "source": [
    "# Setup"
   ]
  },
  {
   "cell_type": "code",
   "execution_count": null,
   "metadata": {},
   "outputs": [],
   "source": [
    "!git clone https://github.com/ultralytics/yolov5  # clone\n",
    "%cd yolov5\n",
    "%pip install -q requirements.txt"
   ]
  },
  {
   "cell_type": "code",
   "execution_count": 1,
   "metadata": {},
   "outputs": [
    {
     "name": "stderr",
     "output_type": "stream",
     "text": [
      "YOLOv5 🚀 v7.0-369-g907bef2f Python-3.12.4 torch-2.4.1+cu118 CUDA:0 (NVIDIA GeForce GTX 1050 Ti, 4029MiB)\n"
     ]
    },
    {
     "name": "stdout",
     "output_type": "stream",
     "text": [
      "Setup complete ✅ (4 CPUs, 7.7 GB RAM, 175.9/912.7 GB disk)\n"
     ]
    }
   ],
   "source": [
    "%cd yolov5\n",
    "\n",
    "import torch\n",
    "import utils\n",
    "display = utils.notebook_init()  # checks"
   ]
  },
  {
   "cell_type": "markdown",
   "metadata": {},
   "source": [
    "# Dataset"
   ]
  },
  {
   "cell_type": "markdown",
   "metadata": {},
   "source": [
    "Disponibilizado em https://universe.roboflow.com/tcc-xrqer/products-expiration-dates\n",
    "\n",
    "Utilizar uma pasta chamada 'datasets' no mesmo diretório em que está 'yolov5'"
   ]
  },
  {
   "cell_type": "markdown",
   "metadata": {},
   "source": [
    "Colocar arquivos .yaml abaixo no diretório /yolov5/data (ajustar path)"
   ]
  },
  {
   "cell_type": "code",
   "execution_count": null,
   "metadata": {},
   "outputs": [],
   "source": [
    "### tcc-data-v4.yaml\n",
    "\n",
    "# path: ../datasets/Exp-Dates.v4i.yolov5pytorch\n",
    "# train: ../train/images\n",
    "# val: ../valid/images\n",
    "# test: ../test/images\n",
    "\n",
    "path: <path>/datasets/Exp-Dates.v4i.yolov5pytorch/\n",
    "train: train/images\n",
    "val: valid/images\n",
    "test: test/images\n",
    "\n",
    "nc: 4\n",
    "names: ['code', 'date', 'due', 'prod']\n",
    "\n",
    "roboflow:\n",
    "  workspace: tcc-xrqer\n",
    "  project: products-expiration-dates\n",
    "  version: 4\n",
    "  license: Public Domain\n",
    "  url: https://universe.roboflow.com/tcc-xrqer/products-expiration-dates/dataset/4"
   ]
  },
  {
   "cell_type": "code",
   "execution_count": null,
   "metadata": {},
   "outputs": [],
   "source": [
    "### tcc-data-v4-test.yaml\n",
    "\n",
    "# path: ../datasets/Exp-Dates.v4i.yolov5pytorch\n",
    "# train: ../train/images\n",
    "# val: ../valid/images\n",
    "# test: ../test/images\n",
    "\n",
    "path: <path>/datasets/Exp-Dates.v4i.yolov5pytorch/\n",
    "train: train/images\n",
    "val: test/images\n",
    "test: test/images\n",
    "\n",
    "nc: 4\n",
    "names: ['code', 'date', 'due', 'prod']\n",
    "\n",
    "roboflow:\n",
    "  workspace: tcc-xrqer\n",
    "  project: products-expiration-dates\n",
    "  version: 4\n",
    "  license: Public Domain\n",
    "  url: https://universe.roboflow.com/tcc-xrqer/products-expiration-dates/dataset/4"
   ]
  },
  {
   "cell_type": "markdown",
   "metadata": {},
   "source": [
    "Colocar arquivo .yaml abaixo no diretório /yolov5/data/hyps "
   ]
  },
  {
   "cell_type": "code",
   "execution_count": null,
   "metadata": {},
   "outputs": [],
   "source": [
    "### hyp-tcc-data-v4.yaml\n",
    "\n",
    "# Ultralytics YOLOv5 🚀, AGPL-3.0 license\n",
    "# Hyperparameters when using Albumentations frameworks\n",
    "# python train.py --hyp hyp.tcc-data-v4.yaml\n",
    "# See https://github.com/ultralytics/yolov5/pull/3882 for YOLOv5 + Albumentations Usage examples\n",
    "\n",
    "lr0: 0.01 # initial learning rate (SGD=1E-2, Adam=1E-3)\n",
    "lrf: 0.1 # final OneCycleLR learning rate (lr0 * lrf)\n",
    "momentum: 0.937 # SGD momentum/Adam beta1\n",
    "weight_decay: 0.0005 # optimizer weight decay 5e-4\n",
    "warmup_epochs: 3.0 # warmup epochs (fractions ok)\n",
    "warmup_momentum: 0.8 # warmup initial momentum\n",
    "warmup_bias_lr: 0.1 # warmup initial bias lr\n",
    "box: 0.05 # box loss gain\n",
    "cls: 0.3 # cls loss gain\n",
    "cls_pw: 1.0 # cls BCELoss positive_weight\n",
    "obj: 0.7 # obj loss gain (scale with pixels)\n",
    "obj_pw: 1.0 # obj BCELoss positive_weight\n",
    "iou_t: 0.20 # IoU training threshold\n",
    "anchor_t: 4.0 # anchor-multiple threshold\n",
    "# anchors: 3  # anchors per output layer (0 to ignore)\n",
    "# this parameters are all zero since we want to use albumentation framework\n",
    "fl_gamma: 0.0 # focal loss gamma (efficientDet default gamma=1.5)\n",
    "\n",
    "degrees: 0.0 # image rotation (+/- deg)\n",
    "translate: 0 # image translation (+/- fraction)\n",
    "shear: 0 # image shear (+/- deg)\n",
    "flipud: 0.0 # image flip up-down (probability)\n",
    "fliplr: 0.0 # image flip left-right (probability)\n",
    "\n",
    "scale: 0.5 # image scale (+/- gain)\n",
    "perspective: 0.0 # image perspective (+/- fraction), range 0-0.001\n",
    "mosaic: 1.0 # image mosaic (probability) #0.2 \n",
    "mixup: 1.0 # image mixup (probability) # 0.2\n",
    "copy_paste: 1.0 # segment copy-paste (probability) #0.2\n",
    "hsv_h: 0.015 # image HSV-Hue augmentation (fraction)\n",
    "hsv_s: 0.7 # image HSV-Saturation augmentation (fraction)\n",
    "hsv_v: 0.4 # image HSV-Value augmentation (fraction)"
   ]
  },
  {
   "cell_type": "markdown",
   "metadata": {},
   "source": [
    "# Treinamento\n",
    "Documentação Referência: https://docs.ultralytics.com/modes/train/"
   ]
  },
  {
   "cell_type": "markdown",
   "metadata": {},
   "source": [
    "**Função p identificar qual a época utilizada em best.pt após treinamento**\n",
    "\n",
    "Referência: https://github.com/ultralytics/ultralytics/issues/14137"
   ]
  },
  {
   "cell_type": "code",
   "execution_count": null,
   "metadata": {},
   "outputs": [],
   "source": [
    "import pandas as pd\n",
    "\n",
    "def get_best_epoch(path_to_results):\n",
    "\n",
    "    # Load the training log\n",
    "    results = pd.read_csv(path_to_results)\n",
    "\n",
    "    # Strip spaces\n",
    "    results.columns = results.columns.str.strip()\n",
    "    # print(results.columns)\n",
    "\n",
    "    # Calculate fitness\n",
    "    results[\"fitness\"] = results[\"metrics/mAP_0.5\"] * 0.1 + results[\"metrics/mAP_0.5:0.95\"] * 0.9\n",
    "\n",
    "    # Find the epoch with the highest fitness\n",
    "    best_epoch = results['fitness'].idxmax() + 1\n",
    "\n",
    "    print(f\"Best model was saved at epoch: {best_epoch}\")"
   ]
  },
  {
   "cell_type": "markdown",
   "metadata": {},
   "source": [
    "## Treinamento de 150 épocas"
   ]
  },
  {
   "cell_type": "code",
   "execution_count": null,
   "metadata": {},
   "outputs": [],
   "source": [
    "!python train.py --epochs 150 --data tcc-data-v3.yaml --weights yolov5s.pt \n",
    "\n",
    "#Results saved to runs/train/exp6"
   ]
  },
  {
   "cell_type": "code",
   "execution_count": 9,
   "metadata": {},
   "outputs": [
    {
     "name": "stdout",
     "output_type": "stream",
     "text": [
      "Best model was saved at epoch: 126\n"
     ]
    }
   ],
   "source": [
    "get_best_epoch('./runs/train/exp6/results.csv')"
   ]
  },
  {
   "cell_type": "markdown",
   "metadata": {},
   "source": [
    "## Treinamento de 300 épocas"
   ]
  },
  {
   "cell_type": "code",
   "execution_count": null,
   "metadata": {},
   "outputs": [],
   "source": [
    "!python train.py --epochs 300 --data tcc-data-v4.yaml --weights yolov5s.pt \n",
    "# Results saved to runs/train/exp13"
   ]
  },
  {
   "cell_type": "code",
   "execution_count": 8,
   "metadata": {},
   "outputs": [
    {
     "name": "stdout",
     "output_type": "stream",
     "text": [
      "Best model was saved at epoch: 204\n"
     ]
    }
   ],
   "source": [
    "get_best_epoch('./runs/train/exp13/results.csv')"
   ]
  },
  {
   "cell_type": "markdown",
   "metadata": {},
   "source": [
    "## Treinamento de 300 épocas com Data Augmentation"
   ]
  },
  {
   "cell_type": "code",
   "execution_count": null,
   "metadata": {},
   "outputs": [],
   "source": [
    "!python train.py --epochs 300 --data tcc-data-v4.yaml --weights yolov5s.pt --hyp hyp.tcc-data-v4.yaml\n",
    "# Results saved at /runs/train/exp15/"
   ]
  },
  {
   "cell_type": "code",
   "execution_count": 5,
   "metadata": {},
   "outputs": [
    {
     "name": "stdout",
     "output_type": "stream",
     "text": [
      "Best model was saved at epoch: 299\n"
     ]
    }
   ],
   "source": [
    "get_best_epoch('./runs/train/exp15/results.csv')"
   ]
  },
  {
   "cell_type": "markdown",
   "metadata": {},
   "source": [
    "### Definições dos parâmetros de Data Augmentation no arquivo 'hyp.tcc-data-v4.yaml'\n",
    "\n",
    "Documentação Referencia: https://docs.ultralytics.com/modes/train/#train-settings"
   ]
  },
  {
   "cell_type": "code",
   "execution_count": null,
   "metadata": {},
   "outputs": [],
   "source": [
    "# Parâmetros com valores padrão\n",
    "lr0: 0.01 # initial learning rate (SGD=1E-2, Adam=1E-3)\n",
    "lrf: 0.1 # final OneCycleLR learning rate (lr0 * lrf)\n",
    "momentum: 0.937 # SGD momentum/Adam beta1\n",
    "weight_decay: 0.0005 # optimizer weight decay 5e-4\n",
    "warmup_epochs: 3.0 # warmup epochs (fractions ok)\n",
    "warmup_momentum: 0.8 # warmup initial momentum\n",
    "warmup_bias_lr: 0.1 # warmup initial bias lr\n",
    "box: 0.05 # box loss gain\n",
    "cls: 0.3 # cls loss gain\n",
    "cls_pw: 1.0 # cls BCELoss positive_weight\n",
    "obj: 0.7 # obj loss gain (scale with pixels)\n",
    "obj_pw: 1.0 # obj BCELoss positive_weight\n",
    "iou_t: 0.20 # IoU training threshold\n",
    "anchor_t: 4.0 # anchor-multiple threshold\n",
    "# anchors: 3  # anchors per output layer (0 to ignore)\n",
    "# this parameters are all zero since we want to use albumentation framework\n",
    "fl_gamma: 0.0 # focal loss gamma (efficientDet default gamma=1.5)\n",
    "degrees: 0.0 # image rotation (+/- deg)\n",
    "translate: 0 # image translation (+/- fraction)\n",
    "shear: 0 # image shear (+/- deg)\n",
    "flipud: 0.0 # image flip up-down (probability)\n",
    "fliplr: 0.0 # image flip left-right (probability)\n",
    "\n",
    "#Parâmetros modificados para o treinamento\n",
    "scale: 0.5 # image scale (+/- gain)\n",
    "perspective: 0.0 # image perspective (+/- fraction), range 0-0.001\n",
    "mosaic: 1.0 # image mosaic (probability)\n",
    "mixup: 1.0 # image mixup (probability)\n",
    "copy_paste: 1.0 # segment copy-paste (probability)\n",
    "hsv_h: 0.015 # image HSV-Hue augmentation (fraction)\n",
    "hsv_s: 0.7 # image HSV-Saturation augmentation (fraction)\n",
    "hsv_v: 0.4 # image HSV-Value augmentation (fraction)"
   ]
  },
  {
   "cell_type": "markdown",
   "metadata": {},
   "source": [
    "# Validação\n",
    "Documentação Referência: https://docs.ultralytics.com/modes/val/\n",
    "\n",
    "No script 'val.py', o valor padrão para threashold de IoU (Intersection Over Union) é 0.6"
   ]
  },
  {
   "cell_type": "code",
   "execution_count": 1,
   "metadata": {},
   "outputs": [],
   "source": [
    "def best_f1(precision, recall):\n",
    "    return 2 * (precision * recall) / (precision + recall)"
   ]
  },
  {
   "cell_type": "markdown",
   "metadata": {},
   "source": [
    "### Validando resultados do treinamento de 150 épocas"
   ]
  },
  {
   "cell_type": "code",
   "execution_count": 3,
   "metadata": {},
   "outputs": [
    {
     "name": "stdout",
     "output_type": "stream",
     "text": [
      "\u001b[34m\u001b[1mval: \u001b[0mdata=/home/landreotti/tcc/expiry-date-detection-YOLO/yolov5/data/tcc-data-v3.yaml, weights=['runs/train/exp6/weights/best.pt'], batch_size=4, imgsz=640, conf_thres=0.001, iou_thres=0.6, max_det=300, task=val, device=, workers=8, single_cls=False, augment=False, verbose=False, save_txt=True, save_hybrid=False, save_conf=True, save_json=False, project=runs/val, name=exp, exist_ok=False, half=False, dnn=False\n",
      "YOLOv5 🚀 v7.0-369-g907bef2f Python-3.12.4 torch-2.4.1+cu118 CUDA:0 (NVIDIA GeForce GTX 1050 Ti, 4029MiB)\n",
      "\n",
      "Fusing layers... \n",
      "Model summary: 157 layers, 7020913 parameters, 0 gradients, 15.8 GFLOPs\n",
      "\u001b[34m\u001b[1mval: \u001b[0mScanning /home/landreotti/tcc/expiry-date-detection-YOLO/datasets/Exp-Dates\u001b[0m\n",
      "                 Class     Images  Instances          P          R      mAP50   WARNING ⚠️ NMS time limit 0.700s exceeded\n",
      "                 Class     Images  Instances          P          R      mAP50   \n",
      "                   all         61        331      0.696      0.642      0.678       0.36\n",
      "                  code         61        109      0.526      0.561      0.556      0.278\n",
      "                  date         61         82      0.809       0.72      0.815      0.511\n",
      "                   due         61         65      0.829      0.646      0.684      0.354\n",
      "                  prod         61         75      0.619       0.64      0.656      0.296\n",
      "Speed: 0.3ms pre-process, 23.4ms inference, 23.7ms NMS per image at shape (4, 3, 640, 640)\n",
      "Results saved to \u001b[1mruns/val/exp18\u001b[0m\n",
      "58 labels saved to runs/val/exp18/labels\n"
     ]
    }
   ],
   "source": [
    "!python val.py --weights runs/train/exp6/weights/best.pt  --data tcc-data-v3.yaml --batch 4 --save-txt --save-conf --iou-thres 0.6\n",
    "\n",
    "# Results saved to runs/val/exp3 \n",
    "                #  Class     Images  Instances          P          R      mAP50   WARNING ⚠️ NMS time limit 0.700s exceeded\n",
    "                #    all         61        331      0.696      0.642      0.678       0.36\n",
    "                #   code         61        109      0.526      0.561      0.556      0.278\n",
    "                #   date         61         82      0.809       0.72      0.815      0.511\n",
    "                #    due         61         65      0.829      0.646      0.684      0.354\n",
    "                #   prod         61         75      0.619       0.64      0.656      0.296"
   ]
  },
  {
   "cell_type": "markdown",
   "metadata": {},
   "source": [
    "### Validando resultados do treinamento de 300 épocas"
   ]
  },
  {
   "cell_type": "code",
   "execution_count": null,
   "metadata": {},
   "outputs": [],
   "source": [
    "!python val.py --weights runs/train/exp13/weights/best.pt  --data tcc-data-v4.yaml --batch 4 --save-txt --save-conf --iou-thres 0.9\n",
    "\n",
    "# Results saved to runs/val/exp20 (--batch 4 --save-txt --save-conf --iou-thres 0.45)\n",
    "#                  Class     Images  Instances          P          R      mAP50   \n",
    "#                    all         61        331      0.781      0.684       0.72      0.376\n",
    "#                   code         61        108      0.629      0.611      0.573      0.292\n",
    "#                   date         61         83      0.919       0.82      0.905      0.556\n",
    "#                    due         61         65      0.826      0.708      0.744      0.363\n",
    "#                   prod         61         75      0.749      0.597       0.66      0.293\n",
    "\n",
    "# Results saved to runs/val/exp40 (--batch 4 --save-txt --save-conf --iou-thres 0.5)\n",
    "# Model summary: 157 layers, 7020913 parameters, 0 gradients, 15.8 GFLOPs\n",
    "#                  Class     Images  Instances          P          R      mAP50   \n",
    "#                    all         61        331      0.779      0.648      0.687      0.361\n",
    "#                   code         61        108      0.623      0.602       0.57      0.291\n",
    "#                   date         61         83      0.914      0.773      0.847      0.535\n",
    "#                    due         61         65      0.826      0.646      0.691      0.335\n",
    "#                   prod         61         75      0.754      0.572       0.64      0.282\n",
    "\n",
    "# Results saved to runs/val/exp19 (--batch 4 --save-txt --save-conf --iou-thres 0.6)\n",
    "#                  Class     Images  Instances          P          R      mAP50   \n",
    "#                    all         61        331      0.754      0.691      0.722       0.38\n",
    "#                   code         61        108      0.605       0.62      0.572      0.292\n",
    "#                   date         61         83      0.882      0.812      0.896      0.557\n",
    "#                    due         61         65      0.802      0.723      0.751      0.369\n",
    "#                   prod         61         75      0.729       0.61       0.67      0.304\n",
    "\n",
    "# Results saved to runs/val/exp41 (--batch 4 --save-txt --save-conf --iou-thres 0.7)\n",
    "# Model summary: 157 layers, 7020913 parameters, 0 gradients, 15.8 GFLOPs\n",
    "#                  Class     Images  Instances          P          R      mAP50   \n",
    "#                    all         61        331       0.73      0.693      0.715       0.38\n",
    "#                   code         61        108       0.58       0.62      0.562       0.29\n",
    "#                   date         61         83      0.839      0.817      0.884      0.557\n",
    "#                    due         61         65      0.803      0.723      0.759      0.373\n",
    "#                   prod         61         75      0.696      0.609      0.654      0.301\n",
    "\n",
    "# Results saved to runs/val/exp42 (--batch 4 --save-txt --save-conf --iou-thres 0.8)\n",
    "# Model summary: 157 layers, 7020913 parameters, 0 gradients, 15.8 GFLOPs\n",
    "#                  Class     Images  Instances          P          R      mAP50   \n",
    "#                    all         61        331      0.781      0.609      0.684      0.376\n",
    "#                   code         61        108      0.677      0.556      0.544      0.287\n",
    "#                   date         61         83      0.935      0.747      0.865      0.551\n",
    "#                    due         61         65      0.806       0.64      0.722      0.371\n",
    "#                   prod         61         75      0.706      0.493      0.606      0.295\n",
    "# Speed: 0.5ms pre-process, 17.3ms inference, 6.3ms NMS per image at shape (4, 3, 640, 640)\n",
    "\n",
    "# Results saved to runs/val/exp43 (--batch 4 --save-txt --save-conf --iou-thres 0.9)\n",
    "# Model summary: 157 layers, 7020913 parameters, 0 gradients, 15.8 GFLOPs\n",
    "#                  Class     Images  Instances          P          R      mAP50   \n",
    "#                    all         61        331      0.543      0.546       0.52      0.302\n",
    "#                   code         61        108      0.507      0.528      0.417      0.229\n",
    "#                   date         61         83      0.662      0.708      0.729      0.482\n",
    "#                    due         61         65      0.476      0.523      0.505      0.277\n",
    "#                   prod         61         75      0.529      0.427      0.432      0.219"
   ]
  },
  {
   "cell_type": "code",
   "execution_count": null,
   "metadata": {},
   "outputs": [
    {
     "name": "stdout",
     "output_type": "stream",
     "text": [
      "45: 0.8666820011500863\n",
      "50: 0.8376075874333136\n",
      "60: 0.8455537190082646\n",
      "70: 0.8278538647342994\n",
      "80: 0.8304934601664685\n",
      "90: 0.6842277372262773\n"
     ]
    }
   ],
   "source": [
    "print(f'45: {best_f1(0.919,0.82)}')  # conf 0.396  \n",
    "print(f'50: {best_f1(0.914,0.773)}') # conf 0.392 \n",
    "print(f'60: {best_f1(0.882,0.812)}') # conf 0.398  \n",
    "print(f'70: {best_f1(0.839,0.817)}') # conf 0.398   \n",
    "print(f'80: {best_f1(0.935,0.747)}') # conf 0.662   \n",
    "print(f'90: {best_f1(0.662,0.708)}') # conf 0.665  "
   ]
  },
  {
   "cell_type": "markdown",
   "metadata": {},
   "source": [
    "### Validando resultados do treinamento de 300 épocas + DataAug"
   ]
  },
  {
   "cell_type": "code",
   "execution_count": null,
   "metadata": {},
   "outputs": [],
   "source": [
    "!python val.py --weights runs/train/exp15/weights/best.pt  --data tcc-data-v4.yaml --batch 4 --save-txt --save-conf --iou-thres 0.9\n",
    "\n",
    "# Results saved to runs/val/exp22 (--batch 4 --save-txt --save-conf --iou-thres 0.45)\n",
    "#                  Class     Images  Instances          P          R      mAP50   \n",
    "#                    all         61        331      0.781      0.742      0.758      0.406\n",
    "#                   code         61        108      0.691       0.63       0.61      0.327\n",
    "#                   date         61         83      0.925      0.891      0.948       0.58\n",
    "#                    due         61         65      0.738      0.738      0.765       0.39\n",
    "#                   prod         61         75      0.769       0.71       0.71      0.327\n",
    "\n",
    "# Results saved to runs/val/exp36 (--batch 4 --save-txt --save-conf --iou-thres 0.5) \n",
    "# Model summary: 157 layers, 7020913 parameters, 0 gradients, 15.8 GFLOPs\n",
    "#                  Class     Images  Instances          P          R      mAP50   \n",
    "#                    all         61        331      0.764      0.703      0.716      0.384\n",
    "#                   code         61        108      0.674       0.62      0.587      0.316\n",
    "#                   date         61         83      0.896      0.834      0.888      0.543\n",
    "#                    due         61         65       0.71      0.677      0.709      0.359\n",
    "#                   prod         61         75      0.776       0.68      0.679      0.318\n",
    "\n",
    "# Results saved to runs/val/exp21 (--batch 4 --save-txt --save-conf --iou-thres 0.6) \n",
    "#                  Class     Images  Instances          P          R      mAP50   \n",
    "#                    all         61        331      0.762      0.737      0.755      0.409\n",
    "#                   code         61        108      0.671       0.63      0.609      0.332\n",
    "#                   date         61         83      0.902       0.88      0.943      0.583\n",
    "#                    due         61         65      0.717      0.738      0.765      0.395\n",
    "#                   prod         61         75      0.756      0.702      0.701      0.326\n",
    "\n",
    "# Results saved to runs/val/exp37 (--batch 4 --save-txt --save-conf --iou-thres 0.7)\n",
    "# Model summary: 157 layers, 7020913 parameters, 0 gradients, 15.8 GFLOPs\n",
    "#                  Class     Images  Instances          P          R      mAP50   \n",
    "#                    all         61        331      0.725      0.697       0.71      0.387\n",
    "#                   code         61        108      0.629       0.62      0.579      0.323\n",
    "#                   date         61         83      0.889      0.831      0.881      0.544\n",
    "#                    due         61         65      0.669      0.677      0.709      0.362\n",
    "#                   prod         61         75      0.712       0.66      0.672      0.319\n",
    "\n",
    "# Results saved to runs/val/exp38 (--batch 4 --save-txt --save-conf --iou-thres 0.8)\n",
    "# Model summary: 157 layers, 7020913 parameters, 0 gradients, 15.8 GFLOPs\n",
    "#                  Class     Images  Instances          P          R      mAP50   \n",
    "#                    all         61        331      0.761      0.652      0.721      0.403\n",
    "#                   code         61        108      0.676      0.519      0.552      0.314\n",
    "#                   date         61         83      0.872      0.817      0.922      0.581\n",
    "#                    due         61         65      0.814      0.673      0.748      0.397\n",
    "#                   prod         61         75      0.682        0.6      0.661       0.32\n",
    "\n",
    "# Results saved to runs/val/exp39 (--batch 4 --save-txt --save-conf --iou-thres 0.9)\n",
    "# Model summary: 157 layers, 7020913 parameters, 0 gradients, 15.8 GFLOPs\n",
    "#                  Class     Images  Instances          P          R      mAP50   \n",
    "#                    all         61        331      0.573      0.567      0.588      0.344\n",
    "#                   code         61        108      0.499      0.444      0.421      0.253\n",
    "#                   date         61         83       0.68      0.771       0.81      0.529\n",
    "#                    due         61         65      0.593      0.569      0.577       0.32\n",
    "#                   prod         61         75      0.523      0.482      0.544      0.272\n"
   ]
  },
  {
   "cell_type": "code",
   "execution_count": null,
   "metadata": {},
   "outputs": [
    {
     "name": "stdout",
     "output_type": "stream",
     "text": [
      "45: 0.9076817180616741\n",
      "50: 0.8638890173410404\n",
      "60: 0.8908641975308642\n",
      "70: 0.8590220930232557\n",
      "80: 0.8436044997039668\n",
      "90: 0.722646450723639\n"
     ]
    }
   ],
   "source": [
    "print(f'45: {best_f1(0.925,0.891)}') # conf 0.374\n",
    "print(f'50: {best_f1(0.896,0.834)}') # conf 0.370\n",
    "print(f'60: {best_f1(0.902,0.88)}')  # conf 0.368\n",
    "print(f'70: {best_f1(0.889,0.831)}') # conf 0.373\n",
    "print(f'80: {best_f1(0.872,0.817)}') # conf 0.569\n",
    "print(f'90: {best_f1(0.68,0.771)}')  # conf 0.65\n",
    "\n",
    "# Qual foi o threashhold de confianca p alcançar esse f1? (< 0.4, > 0.3)"
   ]
  },
  {
   "cell_type": "markdown",
   "metadata": {},
   "source": [
    "# Detecção\n",
    "\n",
    "Documentação Referência: https://docs.ultralytics.com/modes/predict/\n",
    "\n",
    "No script 'detect.py', os valores padrão para threashold de IoU (Intersection Over Union) e Confiânça são 0.45 e 0.25 respectivamente"
   ]
  },
  {
   "cell_type": "markdown",
   "metadata": {},
   "source": [
    "## Predição do modelo de 150 épocas"
   ]
  },
  {
   "cell_type": "code",
   "execution_count": 3,
   "metadata": {},
   "outputs": [
    {
     "name": "stdout",
     "output_type": "stream",
     "text": [
      "\u001b[34m\u001b[1mdetect: \u001b[0mweights=['runs/train/exp6/weights/best.pt'], source=../datasets/Exp-Dates.v3.yolov5pytorch/test/images, data=data/coco128.yaml, imgsz=[640, 640], conf_thres=0.25, iou_thres=0.45, max_det=1000, device=, view_img=False, save_txt=True, save_format=0, save_csv=False, save_conf=False, save_crop=True, nosave=False, classes=[1], agnostic_nms=False, augment=False, visualize=False, update=False, project=runs/detect, name=exp, exist_ok=False, line_thickness=3, hide_labels=False, hide_conf=False, half=False, dnn=False, vid_stride=1\n",
      "YOLOv5 🚀 v7.0-369-g907bef2f Python-3.12.4 torch-2.4.1+cu118 CUDA:0 (NVIDIA GeForce GTX 1050 Ti, 4029MiB)\n",
      "\n",
      "Fusing layers... \n",
      "Model summary: 157 layers, 7020913 parameters, 0 gradients, 15.8 GFLOPs\n",
      "WARNING ⚠️ NMS time limit 0.550s exceeded\n",
      "image 1/63 /home/landreotti/tcc/expiry-date-detection-YOLO/datasets/Exp-Dates.v3.yolov5pytorch/test/images/2024-10-03_000000002_jpg.rf.78a17c9e6e369373a29dd3efeb77411e.jpg: 640x384 1 date, 28.3ms\n",
      "image 2/63 /home/landreotti/tcc/expiry-date-detection-YOLO/datasets/Exp-Dates.v3.yolov5pytorch/test/images/2024-10-03_000000006_jpg.rf.23cb4023524bdf887fb63ad05a58b121.jpg: 640x384 2 dates, 12.5ms\n",
      "image 3/63 /home/landreotti/tcc/expiry-date-detection-YOLO/datasets/Exp-Dates.v3.yolov5pytorch/test/images/2024-10-03_000000025_jpg.rf.b3b22aa4814ad944bd3a3d5a240f9279.jpg: 640x384 1 date, 13.4ms\n",
      "image 4/63 /home/landreotti/tcc/expiry-date-detection-YOLO/datasets/Exp-Dates.v3.yolov5pytorch/test/images/2024-10-03_000000045_jpg.rf.6a17964db0ece5ee6a5e3932b8105e6d.jpg: 640x384 2 dates, 13.2ms\n",
      "image 5/63 /home/landreotti/tcc/expiry-date-detection-YOLO/datasets/Exp-Dates.v3.yolov5pytorch/test/images/2024-10-07_000000004_jpg.rf.0783658648d52bd0ae671c96a6a0a4a5.jpg: 640x384 1 date, 13.9ms\n",
      "image 6/63 /home/landreotti/tcc/expiry-date-detection-YOLO/datasets/Exp-Dates.v3.yolov5pytorch/test/images/2024-10-07_000000069_jpg.rf.4c5417c5c7543fed79c2686942886322.jpg: 640x384 2 dates, 12.5ms\n",
      "image 7/63 /home/landreotti/tcc/expiry-date-detection-YOLO/datasets/Exp-Dates.v3.yolov5pytorch/test/images/img_000004_jpg.rf.ea6e89d14ed66e52268fbb23bdd9f440.jpg: 640x544 1 date, 37.6ms\n",
      "image 8/63 /home/landreotti/tcc/expiry-date-detection-YOLO/datasets/Exp-Dates.v3.yolov5pytorch/test/images/img_000005_jpg.rf.adb500fc9a00c1b30f13b1d46deb7235.jpg: 640x384 2 dates, 13.8ms\n",
      "image 9/63 /home/landreotti/tcc/expiry-date-detection-YOLO/datasets/Exp-Dates.v3.yolov5pytorch/test/images/img_000026_jpg.rf.6903b4a9fbe23cbcdf58f22f080f332e.jpg: 640x480 (no detections), 32.6ms\n",
      "image 10/63 /home/landreotti/tcc/expiry-date-detection-YOLO/datasets/Exp-Dates.v3.yolov5pytorch/test/images/img_000030_jpg.rf.00c2160ea10d47a3118075407bcf5bf1.jpg: 384x640 3 dates, 34.9ms\n",
      "image 11/63 /home/landreotti/tcc/expiry-date-detection-YOLO/datasets/Exp-Dates.v3.yolov5pytorch/test/images/img_000038_jpg.rf.ee117ce67e980748245a908772c8ee4b.jpg: 640x320 (no detections), 45.9ms\n",
      "image 12/63 /home/landreotti/tcc/expiry-date-detection-YOLO/datasets/Exp-Dates.v3.yolov5pytorch/test/images/img_000044_jpg.rf.4fca761a4c6975fa9699094734ca7a98.jpg: 640x384 1 date, 13.9ms\n",
      "image 13/63 /home/landreotti/tcc/expiry-date-detection-YOLO/datasets/Exp-Dates.v3.yolov5pytorch/test/images/img_000045_jpg.rf.24dae496b8c02721cd7d81ed977a766f.jpg: 640x384 1 date, 13.9ms\n",
      "image 14/63 /home/landreotti/tcc/expiry-date-detection-YOLO/datasets/Exp-Dates.v3.yolov5pytorch/test/images/img_000053_jpg.rf.bbf542c8e569016e8204850e8ecb2bae.jpg: 640x384 1 date, 13.7ms\n",
      "image 15/63 /home/landreotti/tcc/expiry-date-detection-YOLO/datasets/Exp-Dates.v3.yolov5pytorch/test/images/img_000056_jpg.rf.ce1688922f6e81e21238c006fa133bfd.jpg: 640x384 2 dates, 13.4ms\n",
      "image 16/63 /home/landreotti/tcc/expiry-date-detection-YOLO/datasets/Exp-Dates.v3.yolov5pytorch/test/images/img_000059_jpg.rf.5d7026fbfba11b283290738a80802cae.jpg: 640x384 (no detections), 13.6ms\n",
      "image 17/63 /home/landreotti/tcc/expiry-date-detection-YOLO/datasets/Exp-Dates.v3.yolov5pytorch/test/images/img_000063_jpg.rf.d38ac8e238dfd528e29827635ccb92b2.jpg: 640x480 2 dates, 14.8ms\n",
      "image 18/63 /home/landreotti/tcc/expiry-date-detection-YOLO/datasets/Exp-Dates.v3.yolov5pytorch/test/images/img_000116_jpg.rf.3adda5bec074b9e78e4d25a637be293f.jpg: 384x640 2 dates, 14.0ms\n",
      "image 19/63 /home/landreotti/tcc/expiry-date-detection-YOLO/datasets/Exp-Dates.v3.yolov5pytorch/test/images/img_000146_jpg.rf.41632391324092135b4135701a4a66ad.jpg: 640x384 1 date, 13.4ms\n",
      "image 20/63 /home/landreotti/tcc/expiry-date-detection-YOLO/datasets/Exp-Dates.v3.yolov5pytorch/test/images/img_000162_jpg.rf.0753ffd4250e293b9d750b0f2f923c10.jpg: 640x384 2 dates, 14.0ms\n",
      "image 21/63 /home/landreotti/tcc/expiry-date-detection-YOLO/datasets/Exp-Dates.v3.yolov5pytorch/test/images/img_000186_jpg.rf.55480e0b766251b1deda638c79a7df5b.jpg: 640x384 3 dates, 17.6ms\n",
      "image 22/63 /home/landreotti/tcc/expiry-date-detection-YOLO/datasets/Exp-Dates.v3.yolov5pytorch/test/images/img_000193_jpg.rf.43db158b000a05a87e32604af6713b09.jpg: 384x640 3 dates, 12.3ms\n",
      "image 23/63 /home/landreotti/tcc/expiry-date-detection-YOLO/datasets/Exp-Dates.v3.yolov5pytorch/test/images/img_000214_jpg.rf.0bdd6a108b8daaaea4d1724f0a8ef71e.jpg: 640x480 1 date, 14.9ms\n",
      "image 24/63 /home/landreotti/tcc/expiry-date-detection-YOLO/datasets/Exp-Dates.v3.yolov5pytorch/test/images/img_000258_jpg.rf.3807990b5300969c615a6568412c153d.jpg: 640x480 2 dates, 16.0ms\n",
      "image 25/63 /home/landreotti/tcc/expiry-date-detection-YOLO/datasets/Exp-Dates.v3.yolov5pytorch/test/images/img_000267_jpg.rf.7a6e44da96f21f38791215deafca1fbd.jpg: 640x320 2 dates, 11.9ms\n",
      "image 26/63 /home/landreotti/tcc/expiry-date-detection-YOLO/datasets/Exp-Dates.v3.yolov5pytorch/test/images/img_000271_jpg.rf.c1e2ef4f4d27b0ff6a8b424c7737e566.jpg: 640x480 1 date, 15.8ms\n",
      "image 27/63 /home/landreotti/tcc/expiry-date-detection-YOLO/datasets/Exp-Dates.v3.yolov5pytorch/test/images/img_000281_jpg.rf.284b11be0368c562b67d6f8f9fa576dd.jpg: 640x384 2 dates, 13.5ms\n",
      "image 28/63 /home/landreotti/tcc/expiry-date-detection-YOLO/datasets/Exp-Dates.v3.yolov5pytorch/test/images/img_000286_jpg.rf.b24d51547cfd713a8527f14dda461c57.jpg: 640x320 2 dates, 12.6ms\n",
      "image 29/63 /home/landreotti/tcc/expiry-date-detection-YOLO/datasets/Exp-Dates.v3.yolov5pytorch/test/images/img_000290_jpg.rf.96374c84a0c94b8993f5d71805bbee52.jpg: 640x384 2 dates, 14.1ms\n",
      "image 30/63 /home/landreotti/tcc/expiry-date-detection-YOLO/datasets/Exp-Dates.v3.yolov5pytorch/test/images/img_000295_jpg.rf.8420ac21e8e2f29611868dce0376cb5a.jpg: 384x640 3 dates, 12.6ms\n",
      "image 31/63 /home/landreotti/tcc/expiry-date-detection-YOLO/datasets/Exp-Dates.v3.yolov5pytorch/test/images/img_000307_jpg.rf.04977ca8ba90f9f085f93d7f214b4e5e.jpg: 640x384 2 dates, 13.4ms\n",
      "image 32/63 /home/landreotti/tcc/expiry-date-detection-YOLO/datasets/Exp-Dates.v3.yolov5pytorch/test/images/img_000321_jpg.rf.826d8b24ea1b577e30d1b6944257cb24.jpg: 640x384 1 date, 13.4ms\n",
      "image 33/63 /home/landreotti/tcc/expiry-date-detection-YOLO/datasets/Exp-Dates.v3.yolov5pytorch/test/images/img_000329_jpg.rf.0bfdd2ce74695c48c7f94e3a1523233c.jpg: 480x640 2 dates, 25.1ms\n",
      "image 34/63 /home/landreotti/tcc/expiry-date-detection-YOLO/datasets/Exp-Dates.v3.yolov5pytorch/test/images/img_000336_jpg.rf.c1bbec908a1bea69312afa3704e249c6.jpg: 640x320 2 dates, 10.8ms\n",
      "image 35/63 /home/landreotti/tcc/expiry-date-detection-YOLO/datasets/Exp-Dates.v3.yolov5pytorch/test/images/img_000343_jpg.rf.cf993f929cf4b1b36131195fe6f8dd02.jpg: 640x384 2 dates, 12.8ms\n",
      "image 36/63 /home/landreotti/tcc/expiry-date-detection-YOLO/datasets/Exp-Dates.v3.yolov5pytorch/test/images/img_000348_jpg.rf.301630daade13b2233c627071e38910b.jpg: 384x640 2 dates, 14.0ms\n",
      "image 37/63 /home/landreotti/tcc/expiry-date-detection-YOLO/datasets/Exp-Dates.v3.yolov5pytorch/test/images/img_000350_jpg.rf.e08074d3492d712f5c3920deb152cd26.jpg: 640x384 1 date, 13.8ms\n",
      "image 38/63 /home/landreotti/tcc/expiry-date-detection-YOLO/datasets/Exp-Dates.v3.yolov5pytorch/test/images/img_000352_jpg.rf.2b28b2fab71194b101aa04170d8ec968.jpg: 320x640 1 date, 27.3ms\n",
      "image 39/63 /home/landreotti/tcc/expiry-date-detection-YOLO/datasets/Exp-Dates.v3.yolov5pytorch/test/images/img_000370_jpg.rf.73f8b64b68ae24df523e31336c03c39d.jpg: 544x640 3 dates, 26.8ms\n",
      "image 40/63 /home/landreotti/tcc/expiry-date-detection-YOLO/datasets/Exp-Dates.v3.yolov5pytorch/test/images/img_000373_jpg.rf.c98b79a89381a4488a2bcec08b2bae74.jpg: 384x640 3 dates, 14.2ms\n",
      "image 41/63 /home/landreotti/tcc/expiry-date-detection-YOLO/datasets/Exp-Dates.v3.yolov5pytorch/test/images/img_000375_jpg.rf.db7449cb92f5dedfc45603f4c097c583.jpg: 384x640 2 dates, 13.8ms\n",
      "image 42/63 /home/landreotti/tcc/expiry-date-detection-YOLO/datasets/Exp-Dates.v3.yolov5pytorch/test/images/img_000378_jpg.rf.3e172c72bd1e3fadc4184a80c89ccdad.jpg: 640x320 2 dates, 12.6ms\n",
      "image 43/63 /home/landreotti/tcc/expiry-date-detection-YOLO/datasets/Exp-Dates.v3.yolov5pytorch/test/images/img_000380_jpg.rf.0a4309170b2195ad874474caf533f011.jpg: 640x384 2 dates, 13.8ms\n",
      "image 44/63 /home/landreotti/tcc/expiry-date-detection-YOLO/datasets/Exp-Dates.v3.yolov5pytorch/test/images/img_000391_jpg.rf.0d4031b98cd68f968ae321d09360768f.jpg: 640x384 1 date, 12.7ms\n",
      "image 45/63 /home/landreotti/tcc/expiry-date-detection-YOLO/datasets/Exp-Dates.v3.yolov5pytorch/test/images/img_000395_jpg.rf.d835587abd975616d6188b5a7c79ec54.jpg: 640x384 (no detections), 12.1ms\n",
      "image 46/63 /home/landreotti/tcc/expiry-date-detection-YOLO/datasets/Exp-Dates.v3.yolov5pytorch/test/images/img_000402_jpg.rf.3bafb50d003e0769c35081ef0c149fad.jpg: 640x480 1 date, 16.0ms\n",
      "image 47/63 /home/landreotti/tcc/expiry-date-detection-YOLO/datasets/Exp-Dates.v3.yolov5pytorch/test/images/img_000411_jpg.rf.663d9f4d75ecb981d1325e58bb2fd4c6.jpg: 640x384 1 date, 13.5ms\n",
      "image 48/63 /home/landreotti/tcc/expiry-date-detection-YOLO/datasets/Exp-Dates.v3.yolov5pytorch/test/images/img_000425_jpg.rf.562e390b994a2692ae32295e84d772b7.jpg: 640x320 1 date, 12.5ms\n",
      "image 49/63 /home/landreotti/tcc/expiry-date-detection-YOLO/datasets/Exp-Dates.v3.yolov5pytorch/test/images/img_000431_jpg.rf.2290a237bd32015681a23fd3f728d9bd.jpg: 640x384 1 date, 13.3ms\n",
      "image 50/63 /home/landreotti/tcc/expiry-date-detection-YOLO/datasets/Exp-Dates.v3.yolov5pytorch/test/images/img_000446_jpg.rf.e2041208b6a3b5fc8e164baedaea5512.jpg: 384x640 1 date, 12.6ms\n",
      "image 51/63 /home/landreotti/tcc/expiry-date-detection-YOLO/datasets/Exp-Dates.v3.yolov5pytorch/test/images/img_000460_jpg.rf.3f0a6764a19300db4a9d535f58ea3996.jpg: 384x640 (no detections), 12.6ms\n",
      "image 52/63 /home/landreotti/tcc/expiry-date-detection-YOLO/datasets/Exp-Dates.v3.yolov5pytorch/test/images/img_000477_jpg.rf.372a248499cf4bc64efd364b93d2b958.jpg: 640x384 (no detections), 13.8ms\n",
      "image 53/63 /home/landreotti/tcc/expiry-date-detection-YOLO/datasets/Exp-Dates.v3.yolov5pytorch/test/images/img_000478_jpg.rf.f565e5d3f89ba556102be1b73de377bb.jpg: 640x320 1 date, 11.3ms\n",
      "image 54/63 /home/landreotti/tcc/expiry-date-detection-YOLO/datasets/Exp-Dates.v3.yolov5pytorch/test/images/img_000482_jpg.rf.57c4051b6487d5e2d25c686241d835b8.jpg: 640x480 2 dates, 14.9ms\n",
      "image 55/63 /home/landreotti/tcc/expiry-date-detection-YOLO/datasets/Exp-Dates.v3.yolov5pytorch/test/images/img_000490_jpg.rf.6af378fac81d19a8d9deb2f0b8fe16fa.jpg: 640x320 (no detections), 11.9ms\n",
      "image 56/63 /home/landreotti/tcc/expiry-date-detection-YOLO/datasets/Exp-Dates.v3.yolov5pytorch/test/images/img_000497_jpg.rf.27aee757a1b020decd3e922adb3466ca.jpg: 384x640 1 date, 12.4ms\n",
      "image 57/63 /home/landreotti/tcc/expiry-date-detection-YOLO/datasets/Exp-Dates.v3.yolov5pytorch/test/images/img_000499_jpg.rf.6586710a122ab8565751d4cc9db7de9d.jpg: 640x384 2 dates, 13.8ms\n",
      "image 58/63 /home/landreotti/tcc/expiry-date-detection-YOLO/datasets/Exp-Dates.v3.yolov5pytorch/test/images/img_000522_jpg.rf.ce8a5a30c0bc16d22b37c62b1f6d148b.jpg: 640x480 2 dates, 16.0ms\n",
      "image 59/63 /home/landreotti/tcc/expiry-date-detection-YOLO/datasets/Exp-Dates.v3.yolov5pytorch/test/images/img_000524_jpg.rf.0b5000a27b0cb1eb6c25566f967b400e.jpg: 640x320 2 dates, 12.0ms\n",
      "image 60/63 /home/landreotti/tcc/expiry-date-detection-YOLO/datasets/Exp-Dates.v3.yolov5pytorch/test/images/img_000527_jpg.rf.0af02f5ba974c328b1849eeabbf5ca79.jpg: 640x320 2 dates, 10.9ms\n",
      "image 61/63 /home/landreotti/tcc/expiry-date-detection-YOLO/datasets/Exp-Dates.v3.yolov5pytorch/test/images/img_000531_jpg.rf.0ca69be717615f6c2c465a212fd0094f.jpg: 384x640 2 dates, 14.0ms\n",
      "image 62/63 /home/landreotti/tcc/expiry-date-detection-YOLO/datasets/Exp-Dates.v3.yolov5pytorch/test/images/img_000559_jpg.rf.7e23a1e08b157ef8e1d1cd4dcf75a23f.jpg: 640x320 2 dates, 11.6ms\n",
      "image 63/63 /home/landreotti/tcc/expiry-date-detection-YOLO/datasets/Exp-Dates.v3.yolov5pytorch/test/images/img_000573_jpg.rf.45773d279373416c1549cc399d83d2b1.jpg: 640x320 2 dates, 12.1ms\n",
      "Speed: 0.8ms pre-process, 15.8ms inference, 23.8ms NMS per image at shape (1, 3, 640, 640)\n",
      "Results saved to \u001b[1mruns/detect/exp9\u001b[0m\n",
      "56 labels saved to runs/detect/exp9/labels\n"
     ]
    }
   ],
   "source": [
    "#!python detect.py --weights runs/train/exp6/weights/best.pt --source ../datasets/Exp-Dates.v3.yolov5pytorch/test/images\n",
    "#!python detect.py --weights runs/train/exp6/weights/best.pt --source ../datasets/Exp-Dates.v3.yolov5pytorch/test/images --conf 0.75\n",
    "!python detect.py --weights runs/train/exp6/weights/best.pt --source ../datasets/Exp-Dates.v3.yolov5pytorch/test/images --classes 1 --save-txt --save-crop\n",
    "    # 2024-10-22\n",
    "    # Results saved to runs/detect/exp9\n",
    "    # 56 labels saved to runs/detect/exp9/labels"
   ]
  },
  {
   "cell_type": "markdown",
   "metadata": {},
   "source": [
    "## Predição do modelo de 300 épocas"
   ]
  },
  {
   "cell_type": "markdown",
   "metadata": {},
   "source": [
    "### Predição para modelo treinado com 300 épocas"
   ]
  },
  {
   "cell_type": "code",
   "execution_count": null,
   "metadata": {},
   "outputs": [
    {
     "name": "stdout",
     "output_type": "stream",
     "text": [
      "\u001b[34m\u001b[1mdetect: \u001b[0mweights=['runs/train/exp13/weights/best.pt'], source=../datasets/Exp-Dates.v4i.yolov5pytorch/test/images, data=data/coco128.yaml, imgsz=[640, 640], conf_thres=0.398, iou_thres=0.6, max_det=1000, device=, view_img=False, save_txt=True, save_format=0, save_csv=False, save_conf=True, save_crop=True, nosave=False, classes=[1], agnostic_nms=False, augment=False, visualize=False, update=False, project=runs/detect, name=exp, exist_ok=False, line_thickness=3, hide_labels=False, hide_conf=False, half=False, dnn=False, vid_stride=1\n",
      "YOLOv5 🚀 v7.0-369-g907bef2f Python-3.12.4 torch-2.4.1+cu118 CUDA:0 (NVIDIA GeForce GTX 1050 Ti, 4029MiB)\n",
      "\n",
      "Fusing layers... \n",
      "Model summary: 157 layers, 7020913 parameters, 0 gradients, 15.8 GFLOPs\n",
      "WARNING ⚠️ NMS time limit 0.550s exceeded\n",
      "image 1/63 /home/landreotti/tcc/expiry-date-detection-YOLO/datasets/Exp-Dates.v4i.yolov5pytorch/test/images/2024-10-03_000000002_jpg.rf.78a17c9e6e369373a29dd3efeb77411e.jpg: 640x384 1 date, 62.5ms\n",
      "image 2/63 /home/landreotti/tcc/expiry-date-detection-YOLO/datasets/Exp-Dates.v4i.yolov5pytorch/test/images/2024-10-03_000000006_jpg.rf.23cb4023524bdf887fb63ad05a58b121.jpg: 640x384 2 dates, 13.8ms\n",
      "image 3/63 /home/landreotti/tcc/expiry-date-detection-YOLO/datasets/Exp-Dates.v4i.yolov5pytorch/test/images/2024-10-03_000000025_jpg.rf.b3b22aa4814ad944bd3a3d5a240f9279.jpg: 640x384 2 dates, 13.8ms\n",
      "image 4/63 /home/landreotti/tcc/expiry-date-detection-YOLO/datasets/Exp-Dates.v4i.yolov5pytorch/test/images/2024-10-03_000000045_jpg.rf.6a17964db0ece5ee6a5e3932b8105e6d.jpg: 640x384 3 dates, 13.8ms\n",
      "image 5/63 /home/landreotti/tcc/expiry-date-detection-YOLO/datasets/Exp-Dates.v4i.yolov5pytorch/test/images/2024-10-07_000000004_jpg.rf.0783658648d52bd0ae671c96a6a0a4a5.jpg: 640x384 1 date, 12.8ms\n",
      "image 6/63 /home/landreotti/tcc/expiry-date-detection-YOLO/datasets/Exp-Dates.v4i.yolov5pytorch/test/images/2024-10-07_000000069_jpg.rf.4c5417c5c7543fed79c2686942886322.jpg: 640x384 2 dates, 13.1ms\n",
      "image 7/63 /home/landreotti/tcc/expiry-date-detection-YOLO/datasets/Exp-Dates.v4i.yolov5pytorch/test/images/img_000004_jpg.rf.ea6e89d14ed66e52268fbb23bdd9f440.jpg: 640x544 1 date, 28.0ms\n",
      "image 8/63 /home/landreotti/tcc/expiry-date-detection-YOLO/datasets/Exp-Dates.v4i.yolov5pytorch/test/images/img_000005_jpg.rf.adb500fc9a00c1b30f13b1d46deb7235.jpg: 640x384 2 dates, 13.5ms\n",
      "image 9/63 /home/landreotti/tcc/expiry-date-detection-YOLO/datasets/Exp-Dates.v4i.yolov5pytorch/test/images/img_000026_jpg.rf.6903b4a9fbe23cbcdf58f22f080f332e.jpg: 640x480 (no detections), 30.5ms\n",
      "image 10/63 /home/landreotti/tcc/expiry-date-detection-YOLO/datasets/Exp-Dates.v4i.yolov5pytorch/test/images/img_000030_jpg.rf.00c2160ea10d47a3118075407bcf5bf1.jpg: 384x640 2 dates, 29.5ms\n",
      "image 11/63 /home/landreotti/tcc/expiry-date-detection-YOLO/datasets/Exp-Dates.v4i.yolov5pytorch/test/images/img_000038_jpg.rf.a7fad491b547b10f2284493b83f14ed5.jpg: 640x320 (no detections), 23.3ms\n",
      "image 12/63 /home/landreotti/tcc/expiry-date-detection-YOLO/datasets/Exp-Dates.v4i.yolov5pytorch/test/images/img_000044_jpg.rf.4fca761a4c6975fa9699094734ca7a98.jpg: 640x384 1 date, 13.7ms\n",
      "image 13/63 /home/landreotti/tcc/expiry-date-detection-YOLO/datasets/Exp-Dates.v4i.yolov5pytorch/test/images/img_000045_jpg.rf.24dae496b8c02721cd7d81ed977a766f.jpg: 640x384 1 date, 14.0ms\n",
      "image 14/63 /home/landreotti/tcc/expiry-date-detection-YOLO/datasets/Exp-Dates.v4i.yolov5pytorch/test/images/img_000053_jpg.rf.bbf542c8e569016e8204850e8ecb2bae.jpg: 640x384 (no detections), 13.5ms\n",
      "image 15/63 /home/landreotti/tcc/expiry-date-detection-YOLO/datasets/Exp-Dates.v4i.yolov5pytorch/test/images/img_000056_jpg.rf.ce1688922f6e81e21238c006fa133bfd.jpg: 640x384 1 date, 12.5ms\n",
      "image 16/63 /home/landreotti/tcc/expiry-date-detection-YOLO/datasets/Exp-Dates.v4i.yolov5pytorch/test/images/img_000059_jpg.rf.5d7026fbfba11b283290738a80802cae.jpg: 640x384 (no detections), 12.5ms\n",
      "image 17/63 /home/landreotti/tcc/expiry-date-detection-YOLO/datasets/Exp-Dates.v4i.yolov5pytorch/test/images/img_000063_jpg.rf.d38ac8e238dfd528e29827635ccb92b2.jpg: 640x480 2 dates, 16.1ms\n",
      "image 18/63 /home/landreotti/tcc/expiry-date-detection-YOLO/datasets/Exp-Dates.v4i.yolov5pytorch/test/images/img_000116_jpg.rf.3adda5bec074b9e78e4d25a637be293f.jpg: 384x640 (no detections), 12.2ms\n",
      "image 19/63 /home/landreotti/tcc/expiry-date-detection-YOLO/datasets/Exp-Dates.v4i.yolov5pytorch/test/images/img_000146_jpg.rf.41632391324092135b4135701a4a66ad.jpg: 640x384 (no detections), 13.8ms\n",
      "image 20/63 /home/landreotti/tcc/expiry-date-detection-YOLO/datasets/Exp-Dates.v4i.yolov5pytorch/test/images/img_000162_jpg.rf.0753ffd4250e293b9d750b0f2f923c10.jpg: 640x384 2 dates, 13.8ms\n",
      "image 21/63 /home/landreotti/tcc/expiry-date-detection-YOLO/datasets/Exp-Dates.v4i.yolov5pytorch/test/images/img_000186_jpg.rf.55480e0b766251b1deda638c79a7df5b.jpg: 640x384 2 dates, 14.1ms\n",
      "image 22/63 /home/landreotti/tcc/expiry-date-detection-YOLO/datasets/Exp-Dates.v4i.yolov5pytorch/test/images/img_000193_jpg.rf.43db158b000a05a87e32604af6713b09.jpg: 384x640 2 dates, 14.1ms\n",
      "image 23/63 /home/landreotti/tcc/expiry-date-detection-YOLO/datasets/Exp-Dates.v4i.yolov5pytorch/test/images/img_000214_jpg.rf.0bdd6a108b8daaaea4d1724f0a8ef71e.jpg: 640x480 1 date, 16.3ms\n",
      "image 24/63 /home/landreotti/tcc/expiry-date-detection-YOLO/datasets/Exp-Dates.v4i.yolov5pytorch/test/images/img_000258_jpg.rf.3807990b5300969c615a6568412c153d.jpg: 640x480 2 dates, 16.0ms\n",
      "image 25/63 /home/landreotti/tcc/expiry-date-detection-YOLO/datasets/Exp-Dates.v4i.yolov5pytorch/test/images/img_000267_jpg.rf.7a6e44da96f21f38791215deafca1fbd.jpg: 640x320 3 dates, 12.6ms\n",
      "image 26/63 /home/landreotti/tcc/expiry-date-detection-YOLO/datasets/Exp-Dates.v4i.yolov5pytorch/test/images/img_000271_jpg.rf.c1e2ef4f4d27b0ff6a8b424c7737e566.jpg: 640x480 1 date, 15.6ms\n",
      "image 27/63 /home/landreotti/tcc/expiry-date-detection-YOLO/datasets/Exp-Dates.v4i.yolov5pytorch/test/images/img_000281_jpg.rf.284b11be0368c562b67d6f8f9fa576dd.jpg: 640x384 1 date, 13.1ms\n",
      "image 28/63 /home/landreotti/tcc/expiry-date-detection-YOLO/datasets/Exp-Dates.v4i.yolov5pytorch/test/images/img_000286_jpg.rf.b24d51547cfd713a8527f14dda461c57.jpg: 640x320 1 date, 12.5ms\n",
      "image 29/63 /home/landreotti/tcc/expiry-date-detection-YOLO/datasets/Exp-Dates.v4i.yolov5pytorch/test/images/img_000290_jpg.rf.96374c84a0c94b8993f5d71805bbee52.jpg: 640x384 2 dates, 13.5ms\n",
      "image 30/63 /home/landreotti/tcc/expiry-date-detection-YOLO/datasets/Exp-Dates.v4i.yolov5pytorch/test/images/img_000295_jpg.rf.8420ac21e8e2f29611868dce0376cb5a.jpg: 384x640 4 dates, 13.9ms\n",
      "image 31/63 /home/landreotti/tcc/expiry-date-detection-YOLO/datasets/Exp-Dates.v4i.yolov5pytorch/test/images/img_000307_jpg.rf.04977ca8ba90f9f085f93d7f214b4e5e.jpg: 640x384 2 dates, 12.5ms\n",
      "image 32/63 /home/landreotti/tcc/expiry-date-detection-YOLO/datasets/Exp-Dates.v4i.yolov5pytorch/test/images/img_000321_jpg.rf.826d8b24ea1b577e30d1b6944257cb24.jpg: 640x384 1 date, 13.3ms\n",
      "image 33/63 /home/landreotti/tcc/expiry-date-detection-YOLO/datasets/Exp-Dates.v4i.yolov5pytorch/test/images/img_000329_jpg.rf.0bfdd2ce74695c48c7f94e3a1523233c.jpg: 480x640 2 dates, 28.9ms\n",
      "image 34/63 /home/landreotti/tcc/expiry-date-detection-YOLO/datasets/Exp-Dates.v4i.yolov5pytorch/test/images/img_000336_jpg.rf.c1bbec908a1bea69312afa3704e249c6.jpg: 640x320 2 dates, 11.1ms\n",
      "image 35/63 /home/landreotti/tcc/expiry-date-detection-YOLO/datasets/Exp-Dates.v4i.yolov5pytorch/test/images/img_000343_jpg.rf.cf993f929cf4b1b36131195fe6f8dd02.jpg: 640x384 2 dates, 11.9ms\n",
      "image 36/63 /home/landreotti/tcc/expiry-date-detection-YOLO/datasets/Exp-Dates.v4i.yolov5pytorch/test/images/img_000348_jpg.rf.301630daade13b2233c627071e38910b.jpg: 384x640 1 date, 12.0ms\n",
      "image 37/63 /home/landreotti/tcc/expiry-date-detection-YOLO/datasets/Exp-Dates.v4i.yolov5pytorch/test/images/img_000350_jpg.rf.e08074d3492d712f5c3920deb152cd26.jpg: 640x384 1 date, 13.5ms\n",
      "image 38/63 /home/landreotti/tcc/expiry-date-detection-YOLO/datasets/Exp-Dates.v4i.yolov5pytorch/test/images/img_000352_jpg.rf.2b28b2fab71194b101aa04170d8ec968.jpg: 320x640 1 date, 29.2ms\n",
      "image 39/63 /home/landreotti/tcc/expiry-date-detection-YOLO/datasets/Exp-Dates.v4i.yolov5pytorch/test/images/img_000370_jpg.rf.73f8b64b68ae24df523e31336c03c39d.jpg: 544x640 1 date, 37.0ms\n",
      "image 40/63 /home/landreotti/tcc/expiry-date-detection-YOLO/datasets/Exp-Dates.v4i.yolov5pytorch/test/images/img_000373_jpg.rf.c98b79a89381a4488a2bcec08b2bae74.jpg: 384x640 2 dates, 13.2ms\n",
      "image 41/63 /home/landreotti/tcc/expiry-date-detection-YOLO/datasets/Exp-Dates.v4i.yolov5pytorch/test/images/img_000375_jpg.rf.db7449cb92f5dedfc45603f4c097c583.jpg: 384x640 1 date, 11.4ms\n",
      "image 42/63 /home/landreotti/tcc/expiry-date-detection-YOLO/datasets/Exp-Dates.v4i.yolov5pytorch/test/images/img_000378_jpg.rf.3e172c72bd1e3fadc4184a80c89ccdad.jpg: 640x320 2 dates, 11.0ms\n",
      "image 43/63 /home/landreotti/tcc/expiry-date-detection-YOLO/datasets/Exp-Dates.v4i.yolov5pytorch/test/images/img_000380_jpg.rf.0a4309170b2195ad874474caf533f011.jpg: 640x384 2 dates, 13.1ms\n",
      "image 44/63 /home/landreotti/tcc/expiry-date-detection-YOLO/datasets/Exp-Dates.v4i.yolov5pytorch/test/images/img_000391_jpg.rf.0d4031b98cd68f968ae321d09360768f.jpg: 640x384 2 dates, 11.9ms\n",
      "image 45/63 /home/landreotti/tcc/expiry-date-detection-YOLO/datasets/Exp-Dates.v4i.yolov5pytorch/test/images/img_000395_jpg.rf.d835587abd975616d6188b5a7c79ec54.jpg: 640x384 1 date, 12.1ms\n",
      "image 46/63 /home/landreotti/tcc/expiry-date-detection-YOLO/datasets/Exp-Dates.v4i.yolov5pytorch/test/images/img_000402_jpg.rf.3bafb50d003e0769c35081ef0c149fad.jpg: 640x480 1 date, 15.2ms\n",
      "image 47/63 /home/landreotti/tcc/expiry-date-detection-YOLO/datasets/Exp-Dates.v4i.yolov5pytorch/test/images/img_000411_jpg.rf.663d9f4d75ecb981d1325e58bb2fd4c6.jpg: 640x384 1 date, 13.0ms\n",
      "image 48/63 /home/landreotti/tcc/expiry-date-detection-YOLO/datasets/Exp-Dates.v4i.yolov5pytorch/test/images/img_000425_jpg.rf.562e390b994a2692ae32295e84d772b7.jpg: 640x320 1 date, 12.0ms\n",
      "image 49/63 /home/landreotti/tcc/expiry-date-detection-YOLO/datasets/Exp-Dates.v4i.yolov5pytorch/test/images/img_000431_jpg.rf.2290a237bd32015681a23fd3f728d9bd.jpg: 640x384 1 date, 27.1ms\n",
      "image 50/63 /home/landreotti/tcc/expiry-date-detection-YOLO/datasets/Exp-Dates.v4i.yolov5pytorch/test/images/img_000446_jpg.rf.e2041208b6a3b5fc8e164baedaea5512.jpg: 384x640 1 date, 20.6ms\n",
      "image 51/63 /home/landreotti/tcc/expiry-date-detection-YOLO/datasets/Exp-Dates.v4i.yolov5pytorch/test/images/img_000460_jpg.rf.3f0a6764a19300db4a9d535f58ea3996.jpg: 384x640 (no detections), 20.6ms\n",
      "image 52/63 /home/landreotti/tcc/expiry-date-detection-YOLO/datasets/Exp-Dates.v4i.yolov5pytorch/test/images/img_000477_jpg.rf.372a248499cf4bc64efd364b93d2b958.jpg: 640x384 (no detections), 12.2ms\n",
      "image 53/63 /home/landreotti/tcc/expiry-date-detection-YOLO/datasets/Exp-Dates.v4i.yolov5pytorch/test/images/img_000478_jpg.rf.f565e5d3f89ba556102be1b73de377bb.jpg: 640x320 1 date, 11.4ms\n",
      "image 54/63 /home/landreotti/tcc/expiry-date-detection-YOLO/datasets/Exp-Dates.v4i.yolov5pytorch/test/images/img_000482_jpg.rf.57c4051b6487d5e2d25c686241d835b8.jpg: 640x480 1 date, 15.0ms\n",
      "image 55/63 /home/landreotti/tcc/expiry-date-detection-YOLO/datasets/Exp-Dates.v4i.yolov5pytorch/test/images/img_000490_jpg.rf.6af378fac81d19a8d9deb2f0b8fe16fa.jpg: 640x320 2 dates, 11.4ms\n",
      "image 56/63 /home/landreotti/tcc/expiry-date-detection-YOLO/datasets/Exp-Dates.v4i.yolov5pytorch/test/images/img_000497_jpg.rf.27aee757a1b020decd3e922adb3466ca.jpg: 384x640 1 date, 19.5ms\n",
      "image 57/63 /home/landreotti/tcc/expiry-date-detection-YOLO/datasets/Exp-Dates.v4i.yolov5pytorch/test/images/img_000499_jpg.rf.6586710a122ab8565751d4cc9db7de9d.jpg: 640x384 2 dates, 21.6ms\n",
      "image 58/63 /home/landreotti/tcc/expiry-date-detection-YOLO/datasets/Exp-Dates.v4i.yolov5pytorch/test/images/img_000522_jpg.rf.ce8a5a30c0bc16d22b37c62b1f6d148b.jpg: 640x480 (no detections), 16.1ms\n",
      "image 59/63 /home/landreotti/tcc/expiry-date-detection-YOLO/datasets/Exp-Dates.v4i.yolov5pytorch/test/images/img_000524_jpg.rf.0b5000a27b0cb1eb6c25566f967b400e.jpg: 640x320 (no detections), 36.7ms\n",
      "image 60/63 /home/landreotti/tcc/expiry-date-detection-YOLO/datasets/Exp-Dates.v4i.yolov5pytorch/test/images/img_000527_jpg.rf.0af02f5ba974c328b1849eeabbf5ca79.jpg: 640x320 1 date, 11.1ms\n",
      "image 61/63 /home/landreotti/tcc/expiry-date-detection-YOLO/datasets/Exp-Dates.v4i.yolov5pytorch/test/images/img_000531_jpg.rf.0ca69be717615f6c2c465a212fd0094f.jpg: 384x640 2 dates, 11.9ms\n",
      "image 62/63 /home/landreotti/tcc/expiry-date-detection-YOLO/datasets/Exp-Dates.v4i.yolov5pytorch/test/images/img_000559_jpg.rf.7e23a1e08b157ef8e1d1cd4dcf75a23f.jpg: 640x320 1 date, 11.4ms\n",
      "image 63/63 /home/landreotti/tcc/expiry-date-detection-YOLO/datasets/Exp-Dates.v4i.yolov5pytorch/test/images/img_000573_jpg.rf.45773d279373416c1549cc399d83d2b1.jpg: 640x320 2 dates, 11.5ms\n",
      "Speed: 0.8ms pre-process, 16.8ms inference, 20.5ms NMS per image at shape (1, 3, 640, 640)\n",
      "Results saved to \u001b[1mruns/detect/exp47\u001b[0m\n",
      "53 labels saved to runs/detect/exp47/labels\n"
     ]
    }
   ],
   "source": [
    "!python detect.py --weights runs/train/exp13/weights/best.pt --source ../datasets/Exp-Dates.v4i.yolov5pytorch/test/images --classes 1 --save-txt --save-crop --save-conf --iou-thres 0.60 --conf-thres 0.398\n",
    "\n",
    "# Validação nos mostra qual seria o melhor conf_threas para usar (pelo gráfico F1xConfidence)\n",
    "# - Para IoU 0.Xx, a Conf que maximiza F1 é 0.Xxx (para todas as classes) \n",
    "           # 0.45                           0.396  \n",
    "           # 0.50                           0.392 \n",
    "           # 0.60                           0.398  \n",
    "           # 0.70                           0.398   \n",
    "           # 0.80                           0.662   \n",
    "           # 0.90                           0.665  \n",
    "\n",
    "# Results saved to runs/detect/exp40 -> --classes 1 --save-txt --save-crop --save-conf --iou-thres 0.45 --conf-thres 0.369\n",
    "# Results saved to runs/detect/exp41 -> --classes 1 --save-txt --save-crop --save-conf --iou-thres 0.50 --conf-thres 0.392\n",
    "\n",
    "# Results saved to runs/detect/exp47 -> --classes 1 --save-txt --save-crop --save-conf --iou-thres 0.60 --conf-thres 0.398\n",
    "\n",
    "# Results saved to runs/detect/exp43 -> --classes 1 --save-txt --save-crop --save-conf --iou-thres 0.70 --conf-thres 0.398\n",
    "# Results saved to runs/detect/exp44 -> --classes 1 --save-txt --save-crop --save-conf --iou-thres 0.80 --conf-thres 0.662\n",
    "# Results saved to runs/detect/exp45 -> --classes 1 --save-txt --save-crop --save-conf --iou-thres 0.90 --conf-thres 0.665"
   ]
  },
  {
   "cell_type": "markdown",
   "metadata": {},
   "source": [
    "### Predição para modelo treinado com 300 épocas + DataAug"
   ]
  },
  {
   "cell_type": "code",
   "execution_count": null,
   "metadata": {},
   "outputs": [],
   "source": [
    "!python detect.py --weights runs/train/exp15/weights/best.pt --source ../datasets/Exp-Dates.v4i.yolov5pytorch/test/images --classes 1 --save-txt --save-crop --save-conf --iou-thres 0.90 --conf-thres 0.65\n",
    "\n",
    "# Validação nos mostra qual seria o melhor conf_threas para usar (pelo gráfico F1xConfidence)\n",
    "# - Para IoU 0.Xx, a Conf que maximiza F1 é 0.Xxx (para todas as classes) \n",
    "           # 0.45 -                         0.374\n",
    "           # 0.50 -                         0.370\n",
    "           # 0.60 -                         0.368\n",
    "           # 0.70 -                         0.373\n",
    "           # 0.80 -                         0.569\n",
    "           # 0.90 -                         0.65\n",
    "\n",
    "# Results saved to runs/detect/exp34 -> --classes 1 --save-txt --save-crop --save-conf --iou-thres 0.45 --conf-thres 0.374\n",
    "# Results saved to runs/detect/exp35 -> --classes 1 --save-txt --save-crop --save-conf --iou-thres 0.50 --conf-thres 0.370\n",
    "\n",
    "# Results saved to runs/detect/exp36 -> --classes 1 --save-txt --save-crop --save-conf --iou-thres 0.60 --conf-thres 0.368\n",
    "\n",
    "# Results saved to runs/detect/exp37 -> --classes 1 --save-txt --save-crop --save-conf --iou-thres 0.70 --conf-thres 0.373\n",
    "# Results saved to runs/detect/exp38 -> --classes 1 --save-txt --save-crop --save-conf --iou-thres 0.80 --conf-thres 0.569\n",
    "# Results saved to runs/detect/exp39 -> --classes 1 --save-txt --save-crop --save-conf --iou-thres 0.90 --conf-thres 0.65"
   ]
  },
  {
   "cell_type": "markdown",
   "metadata": {},
   "source": [
    "### Usando script 'val.py' no dataset de imagens teste para ver as métricas e gráficos gerados pela yolo "
   ]
  },
  {
   "cell_type": "markdown",
   "metadata": {},
   "source": [
    "300 épocas + DataAug"
   ]
  },
  {
   "cell_type": "code",
   "execution_count": null,
   "metadata": {},
   "outputs": [],
   "source": [
    "!python val.py --weights runs/train/exp15/weights/best.pt  --data tcc-data-v4-test.yaml --iou-thres 0.6 --conf-thres 0.368 --save-txt\n",
    "\n",
    "# Results saved to runs/val/exp49\n",
    "# Model summary: 157 layers, 7020913 parameters, 0 gradients, 15.8 GFLOPs\n",
    "#                  Class     Images  Instances          P          R      mAP50   \n",
    "#                    all         63        374      0.783       0.71      0.761      0.454\n",
    "#                   code         63        127      0.656      0.661      0.642      0.413\n",
    "#                   date         63         90      0.804      0.822      0.869       0.56\n",
    "#                    due         63         69      0.865      0.652      0.786      0.448\n",
    "#                   prod         63         88      0.805      0.705      0.746      0.393"
   ]
  },
  {
   "cell_type": "code",
   "execution_count": 3,
   "metadata": {},
   "outputs": [
    {
     "name": "stdout",
     "output_type": "stream",
     "text": [
      "code: 0.6584905087319666\n",
      "date: 0.8129003690036901\n",
      "due: 0.743546473302571\n",
      "prod: 0.7516887417218544\n"
     ]
    }
   ],
   "source": [
    "print(f'code: {best_f1(0.656      ,0.661)}')   \n",
    "print(f'date: {best_f1(0.804      ,0.822)}') \n",
    "print(f'due: {best_f1(0.865      ,0.652)}')   \n",
    "print(f'prod: {best_f1(0.805      ,0.705)}')  "
   ]
  },
  {
   "cell_type": "code",
   "execution_count": null,
   "metadata": {},
   "outputs": [],
   "source": [
    "!python val.py --weights runs/train/exp15/weights/best.pt  --data tcc-data-v4-test.yaml --iou-thres 0.6 --save-txt --save-conf\n",
    "\n",
    "# Results saved to runs/val/exp16 ('--iou-thres 0.45') \n",
    "#    Model summary: 157 layers, 7020913 parameters, 0 gradients, 15.8 GFLOPs\n",
    "#                    Class     Images  Instances          P          R      mAP50   \n",
    "#                    all          63        374      0.797        0.7      0.736      0.392\n",
    "#                    code         63        127      0.695      0.638      0.639       0.36\n",
    "#                    date         63         90      0.831      0.818      0.846      0.505\n",
    "#                    due          63         69      0.863      0.652      0.752      0.376\n",
    "#                    prod         63         88        0.8      0.693      0.709      0.326\n",
    "\n",
    "# Results saved to runs/val/exp35 (--iou-thres 0.5)\n",
    "#   Model summary: 157 layers, 7020913 parameters, 0 gradients, 15.8 GFLOPs\n",
    "#                  Class     Images  Instances          P          R      mAP50   \n",
    "#                    all         63        374      0.795      0.702      0.737      0.393\n",
    "#                   code         63        127      0.693      0.646      0.643      0.362\n",
    "#                   date         63         90      0.821      0.816       0.85      0.506\n",
    "#                    due         63         69      0.864      0.652      0.751      0.376\n",
    "#                   prod         63         88      0.801      0.693      0.705      0.326\n",
    "\n",
    "# Results saved to runs/val/exp47 --iou-thres 0.6 --save-txt --save-conf\n",
    "# Model summary: 157 layers, 7020913 parameters, 0 gradients, 15.8 GFLOPs\n",
    "#                  Class     Images  Instances          P          R      mAP50   \n",
    "#                    all         63        374      0.817      0.679      0.738      0.395\n",
    "#                   code         63        127      0.705      0.622      0.636      0.365\n",
    "#                   date         63         90      0.845        0.8      0.865       0.51\n",
    "#                    due         63         69      0.918      0.651      0.746      0.379\n",
    "#                   prod         63         88      0.802      0.643      0.707      0.327"
   ]
  },
  {
   "cell_type": "markdown",
   "metadata": {},
   "source": [
    "300 épocas"
   ]
  },
  {
   "cell_type": "code",
   "execution_count": null,
   "metadata": {},
   "outputs": [],
   "source": [
    "!python val.py --weights runs/train/exp13/weights/best.pt  --data tcc-data-v4-test.yaml --iou-thres 0.6 --conf-thres 0.398 --save-txt\n",
    "\n",
    "# Results saved to runs/val/exp50\n",
    "# Model summary: 157 layers, 7020913 parameters, 0 gradients, 15.8 GFLOPs\n",
    "#                  Class     Images  Instances          P          R      mAP50   \n",
    "#                    all         63        374      0.806      0.535      0.667      0.378\n",
    "#                   code         63        127      0.655      0.504      0.573      0.342\n",
    "#                   date         63         90      0.833      0.622      0.743       0.45\n",
    "#                    due         63         69      0.952      0.571      0.785      0.445\n",
    "#                   prod         63         88      0.783      0.443      0.569      0.278"
   ]
  },
  {
   "cell_type": "code",
   "execution_count": 2,
   "metadata": {},
   "outputs": [
    {
     "name": "stdout",
     "output_type": "stream",
     "text": [
      "code: 0.5696635030198447\n",
      "date: 0.7122006872852233\n",
      "due: 0.7138437294812869\n",
      "prod: 0.5658548123980425\n"
     ]
    }
   ],
   "source": [
    "print(f'code: {best_f1(0.655      ,0.504)}')   \n",
    "print(f'date: {best_f1(0.833      ,0.622)}') \n",
    "print(f'due: {best_f1(0.952      ,0.571)}')   \n",
    "print(f'prod: {best_f1(0.783      ,0.443)}')  "
   ]
  },
  {
   "cell_type": "code",
   "execution_count": null,
   "metadata": {},
   "outputs": [],
   "source": [
    "!python val.py --weights runs/train/exp13/weights/best.pt  --data tcc-data-v4-test.yaml --iou-thres 0.6 --save-txt --save-conf\n",
    "\n",
    "# Results saved to runs/val/exp44 (--iou-thres 0.45 --save-txt --save-conf)\n",
    "# Model summary: 157 layers, 7020913 parameters, 0 gradients, 15.8 GFLOPs\n",
    "#                  Class     Images  Instances          P          R      mAP50   \n",
    "#                    all         63        374      0.696      0.612      0.636      0.316\n",
    "#                   code         63        127      0.564      0.567      0.554      0.291\n",
    "#                   date         63         90      0.743      0.708       0.77      0.407\n",
    "#                    due         63         69      0.861      0.652      0.689      0.346\n",
    "#                   prod         63         88      0.615      0.523       0.53      0.221\n",
    "\n",
    "# Results saved to runs/val/exp45 (--iou-thres 0.5 --save-txt --save-conf)\n",
    "# Model summary: 157 layers, 7020913 parameters, 0 gradients, 15.8 GFLOPs\n",
    "#                  Class     Images  Instances          P          R      mAP50   \n",
    "#                    all         63        374      0.691      0.612      0.637      0.318\n",
    "#                   code         63        127       0.56      0.567      0.556      0.295\n",
    "#                   date         63         90      0.726      0.705      0.767      0.408\n",
    "#                    due         63         69      0.861      0.652      0.696      0.349\n",
    "#                   prod         63         88      0.615      0.523      0.527       0.22\n",
    "\n",
    "# Results saved to runs/val/exp46 (--iou-thres 0.6 --save-txt --save-conf)\n",
    "# Model summary: 157 layers, 7020913 parameters, 0 gradients, 15.8 GFLOPs\n",
    "#                  Class     Images  Instances          P          R      mAP50   \n",
    "#                    all         63        374      0.681      0.617      0.634      0.317\n",
    "#                   code         63        127      0.542      0.575      0.555      0.295\n",
    "#                   date         63         90      0.722       0.72      0.763      0.405\n",
    "#                    due         63         69       0.86      0.652      0.698      0.349\n",
    "#                   prod         63         88      0.599      0.523      0.519       0.22\n",
    "\n"
   ]
  }
 ],
 "metadata": {
  "kernelspec": {
   "display_name": "base",
   "language": "python",
   "name": "python3"
  },
  "language_info": {
   "codemirror_mode": {
    "name": "ipython",
    "version": 3
   },
   "file_extension": ".py",
   "mimetype": "text/x-python",
   "name": "python",
   "nbconvert_exporter": "python",
   "pygments_lexer": "ipython3",
   "version": "3.12.4"
  }
 },
 "nbformat": 4,
 "nbformat_minor": 2
}
